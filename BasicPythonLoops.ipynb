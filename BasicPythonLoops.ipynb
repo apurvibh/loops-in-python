{
  "nbformat": 4,
  "nbformat_minor": 0,
  "metadata": {
    "colab": {
      "name": "BasicPythonLoops.ipynb",
      "provenance": [],
      "collapsed_sections": []
    },
    "kernelspec": {
      "name": "python3",
      "display_name": "Python 3"
    }
  },
  "cells": [
    {
      "cell_type": "markdown",
      "metadata": {
        "id": "uacFrEaZfcfq"
      },
      "source": [
        "##### Q1. Write a program that prompts the user to enter a password then prints the length of the password.\n",
        "\n",
        "```\n",
        "Enter your password: hello\n",
        "Your password is 5 long.\n",
        "```\n",
        "\n",
        "\n"
      ]
    },
    {
      "cell_type": "code",
      "metadata": {
        "id": "avPyES14ftCt",
        "colab": {
          "base_uri": "https://localhost:8080/"
        },
        "outputId": "de08cb12-ede9-4115-cdf3-013d5d0e1c90"
      },
      "source": [
        "\n",
        "password = input(\"Enter your password: \")\n",
        "print(\"Your password is\", password, \"long.\")"
      ],
      "execution_count": null,
      "outputs": [
        {
          "output_type": "stream",
          "text": [
            "Enter your password: 5\n",
            "Your password is 5 long.\n"
          ],
          "name": "stdout"
        }
      ]
    },
    {
      "cell_type": "markdown",
      "metadata": {
        "id": "behD0j_Of2TW"
      },
      "source": [
        "##### Q2. Write a program that prompts the user to enter their full name then prints the number of characters in their name (do not count spaces).\n",
        "\n",
        "```\n",
        "What is your name? Amulya Katti\n",
        "Amulya Katti your name has 11 characters.\n",
        "```"
      ]
    },
    {
      "cell_type": "code",
      "metadata": {
        "id": "XSdIRjwlhSlu",
        "colab": {
          "base_uri": "https://localhost:8080/"
        },
        "outputId": "3310ad6c-c752-42b9-d58d-0d408dafdeb7"
      },
      "source": [
        "\n",
        "name = input(\"What is your name? \")\n",
        "length = len(name)\n",
        "print(name ,\"your name has\", length-1 , \"characters.\")"
      ],
      "execution_count": null,
      "outputs": [
        {
          "output_type": "stream",
          "text": [
            "What is your name? amulya\n",
            "amulya your name has 5 characters.\n"
          ],
          "name": "stdout"
        }
      ]
    },
    {
      "cell_type": "markdown",
      "metadata": {
        "id": "5KHOWF6FhVHV"
      },
      "source": [
        "##### Q3. Write a program that prompts the user to enter a month (as a number), then prints the name of the month and the number of days in that month. Ensure that the user inputs a valid month and handle any error cases.\n",
        "\n",
        "```\n",
        "Enter the month number: 9\n",
        "September has 30 days\n",
        "```"
      ]
    },
    {
      "cell_type": "code",
      "metadata": {
        "id": "KhS-SAEThyTG",
        "colab": {
          "base_uri": "https://localhost:8080/"
        },
        "outputId": "3d7ca426-0da2-49ae-efce-b6dee232b5c0"
      },
      "source": [
        "number = input(\"Enter the month number: \")\n",
        "while number.isdigit() == False:\n",
        "  number = input(\"Enter the month number: \")\n",
        "number = int(number)\n",
        "while number<1 or number>12:\n",
        "  number = int(input(\"Enter the month number: \"))\n",
        "\n",
        "if number == 1:\n",
        "    month = \"January\"\n",
        "elif number == 2:\n",
        "    month = \"February\"\n",
        "elif number == 3:\n",
        "    month = \"March\"\n",
        "elif number == 4:\n",
        "    month = \"April\"\n",
        "elif number == 5:\n",
        "    month = \"May\"\n",
        "elif number == 6:\n",
        "    month = \"June\"\n",
        "elif number == 7:\n",
        "    month = \"July\"\n",
        "elif number == 8:\n",
        "    month = \"August\"\n",
        "elif number == 9:\n",
        "    month = \"September\"\n",
        "elif number == 10:\n",
        "    month = \"October\"\n",
        "elif number == 11:\n",
        "    month = \"November\"\n",
        "elif number == 12:\n",
        "    month = \"December\"\n",
        "\n",
        "if month == \"February\":\n",
        "  days = 28\n",
        "elif month == \"April\" or month == \"June\" or month == \"January\" or month == \"September\" or month == \"November\":\n",
        "  days = 30\n",
        "else:\n",
        "  days = 31\n",
        "\n",
        "#assumes every year has 365 days\n",
        "print(month, \" has \", days , \"days.\")"
      ],
      "execution_count": null,
      "outputs": [
        {
          "output_type": "stream",
          "text": [
            "Enter the month number: 20\n",
            "Enter the month number: -1\n",
            "Enter the month number: 4\n",
            "April  has  30 days.\n"
          ],
          "name": "stdout"
        }
      ]
    },
    {
      "cell_type": "markdown",
      "metadata": {
        "id": "O7lnAdGlh6Xa"
      },
      "source": [
        "##### Q4. Write a program that prompts the user to enter a loan amount, annual interest rate, and number of years  for a car loan. Then calculate and print the monthly payment amount.\n",
        "\n",
        "Note:\n",
        "```\n",
        "PMT= [PV*i*((1+i)^n)]/[((1+i)^n)-1]\n",
        "```\n",
        "PMT is the monthly payment\n",
        "\n",
        "PV is the loan amount\n",
        "\n",
        "i is the interest rate per month in decimal form (interest rate percentage divided by 12)\n",
        "\n",
        "n is the number of months (term of the loan in months)\n",
        "\n",
        "```\n",
        "Loan Amount: 30000.00\n",
        "Annual Interest Rate: 4.00\n",
        "Years: 5\n",
        "Your monthly payment is: $552.50\n",
        "```"
      ]
    },
    {
      "cell_type": "code",
      "metadata": {
        "id": "p4B5JH5GiTs9",
        "colab": {
          "base_uri": "https://localhost:8080/"
        },
        "outputId": "c0774fbd-9b77-4a9e-ebad-93c0ddfeef46"
      },
      "source": [
        "\n",
        "\n",
        "import math\n",
        "loan = input(\"Enter Loan Amount : \")\n",
        "while loan.isnumeric() == False:\n",
        "  loan = input(\"Enter Loan Amount :\")\n",
        "loan = float(loan)\n",
        "\n",
        "rate = input(\"Enter Annual Interest Rate: \")\n",
        "while rate.isnumeric() == False:\n",
        "  rate = input(\"Enter Annual Interest Rate : \")\n",
        "rate = float(rate)\n",
        "\n",
        "year = input(\"Enter number of years for loan: \")\n",
        "while year.isnumeric() == False:\n",
        "  year= input(\"Enter number of years for loan: \")\n",
        "year = int(year)\n",
        "\n",
        "num = loan * (0.01*rate/12) * (1+ (0.01*rate/12))**(year*12)\n",
        "den = ((1+ (0.01*rate/12))**(year*12))-1\n",
        "\n",
        "pmt = num/den\n",
        "\n",
        "print(\"Your monthly payment is: $\"+  str(round(pmt,2)))"
      ],
      "execution_count": null,
      "outputs": [
        {
          "output_type": "stream",
          "text": [
            "Enter Loan Amount : 30000\n",
            "Enter Annual Interest Rate: 4\n",
            "Enter number of years for loan: 5\n",
            "Your monthly payment is: $552.5\n"
          ],
          "name": "stdout"
        }
      ]
    },
    {
      "cell_type": "markdown",
      "metadata": {
        "id": "SjiolJKgiWV-"
      },
      "source": [
        "##### Q5. Write a program to that prompts the user to enter a string. Then check whether or not the string is a palindrome.\n",
        "\n",
        "```\n",
        "Enter a string: Madam\n",
        "Madam, is a palindrome!\n",
        "```"
      ]
    },
    {
      "cell_type": "code",
      "metadata": {
        "id": "F5_M934Ri0es",
        "colab": {
          "base_uri": "https://localhost:8080/"
        },
        "outputId": "76425b44-7477-434c-92bc-2942c869d676"
      },
      "source": [
        "word = input(\"Enter a string: \")\n",
        "\n",
        "rword = \"\"\n",
        "\n",
        "for x in word:\n",
        "  rword = x + rword\n",
        "\n",
        "if rword.lower() == word.lower():\n",
        "  print(word , \", is a palindrome!\")\n",
        "else:\n",
        "  print(word , \", is not a palindrome!\")"
      ],
      "execution_count": null,
      "outputs": [
        {
          "output_type": "stream",
          "text": [
            "Enter a string: WOw\n",
            "WOw , is a palindrome!\n"
          ],
          "name": "stdout"
        }
      ]
    },
    {
      "cell_type": "markdown",
      "metadata": {
        "id": "BLBD6n9vkJEu"
      },
      "source": [
        "##### Q6. Write a program to compute and print all possible combinations of change for \\$1. Denominations to be considered – quarter, dime, nickel, penny.\n",
        "\n",
        "Hint: Use nested loops (loops within loops for the various denominations of coins)\n",
        "\n",
        "```\n",
        "Change for $1:\n",
        "0 quarters, 0 dimes, 0 nickels, 100 pennies\n",
        "…\n",
        "4 quarters, 0 dimes, 0 nickels, 0 pennies\n",
        "```"
      ]
    },
    {
      "cell_type": "code",
      "metadata": {
        "id": "kAQsTjwDkZZ5",
        "colab": {
          "base_uri": "https://localhost:8080/"
        },
        "outputId": "2dd838fd-b791-40f6-a638-226d93d9911f"
      },
      "source": [
        "print(\"Change for $1:\")\n",
        "\n",
        "sum = 0\n",
        "\n",
        "# q = quarters, d = dimes, n = nickels, p = pennies\n",
        "\n",
        "for p in range(0,101,1):\n",
        "  \n",
        "  for n in range(0,21,1):\n",
        "    \n",
        "    for d in range(0,11,1):\n",
        "        \n",
        "      for q in range(0,5,1):\n",
        "        \n",
        "        sum = q * 25 + d * 10 + n * 5 + p #multiplying by their denominations\n",
        "        if sum == 100:\n",
        "          print(q, \"quarters\", d, \"dimes\", n,  \"nickels\", p, \"pennies\")\n",
        "\n"
      ],
      "execution_count": null,
      "outputs": [
        {
          "output_type": "stream",
          "text": [
            "Change for $1:\n",
            "4 quarters 0 dimes 0 nickels 0 pennies\n",
            "2 quarters 5 dimes 0 nickels 0 pennies\n",
            "0 quarters 10 dimes 0 nickels 0 pennies\n",
            "3 quarters 2 dimes 1 nickels 0 pennies\n",
            "1 quarters 7 dimes 1 nickels 0 pennies\n",
            "2 quarters 4 dimes 2 nickels 0 pennies\n",
            "0 quarters 9 dimes 2 nickels 0 pennies\n",
            "3 quarters 1 dimes 3 nickels 0 pennies\n",
            "1 quarters 6 dimes 3 nickels 0 pennies\n",
            "2 quarters 3 dimes 4 nickels 0 pennies\n",
            "0 quarters 8 dimes 4 nickels 0 pennies\n",
            "3 quarters 0 dimes 5 nickels 0 pennies\n",
            "1 quarters 5 dimes 5 nickels 0 pennies\n",
            "2 quarters 2 dimes 6 nickels 0 pennies\n",
            "0 quarters 7 dimes 6 nickels 0 pennies\n",
            "1 quarters 4 dimes 7 nickels 0 pennies\n",
            "2 quarters 1 dimes 8 nickels 0 pennies\n",
            "0 quarters 6 dimes 8 nickels 0 pennies\n",
            "1 quarters 3 dimes 9 nickels 0 pennies\n",
            "2 quarters 0 dimes 10 nickels 0 pennies\n",
            "0 quarters 5 dimes 10 nickels 0 pennies\n",
            "1 quarters 2 dimes 11 nickels 0 pennies\n",
            "0 quarters 4 dimes 12 nickels 0 pennies\n",
            "1 quarters 1 dimes 13 nickels 0 pennies\n",
            "0 quarters 3 dimes 14 nickels 0 pennies\n",
            "1 quarters 0 dimes 15 nickels 0 pennies\n",
            "0 quarters 2 dimes 16 nickels 0 pennies\n",
            "0 quarters 1 dimes 18 nickels 0 pennies\n",
            "0 quarters 0 dimes 20 nickels 0 pennies\n",
            "3 quarters 2 dimes 0 nickels 5 pennies\n",
            "1 quarters 7 dimes 0 nickels 5 pennies\n",
            "2 quarters 4 dimes 1 nickels 5 pennies\n",
            "0 quarters 9 dimes 1 nickels 5 pennies\n",
            "3 quarters 1 dimes 2 nickels 5 pennies\n",
            "1 quarters 6 dimes 2 nickels 5 pennies\n",
            "2 quarters 3 dimes 3 nickels 5 pennies\n",
            "0 quarters 8 dimes 3 nickels 5 pennies\n",
            "3 quarters 0 dimes 4 nickels 5 pennies\n",
            "1 quarters 5 dimes 4 nickels 5 pennies\n",
            "2 quarters 2 dimes 5 nickels 5 pennies\n",
            "0 quarters 7 dimes 5 nickels 5 pennies\n",
            "1 quarters 4 dimes 6 nickels 5 pennies\n",
            "2 quarters 1 dimes 7 nickels 5 pennies\n",
            "0 quarters 6 dimes 7 nickels 5 pennies\n",
            "1 quarters 3 dimes 8 nickels 5 pennies\n",
            "2 quarters 0 dimes 9 nickels 5 pennies\n",
            "0 quarters 5 dimes 9 nickels 5 pennies\n",
            "1 quarters 2 dimes 10 nickels 5 pennies\n",
            "0 quarters 4 dimes 11 nickels 5 pennies\n",
            "1 quarters 1 dimes 12 nickels 5 pennies\n",
            "0 quarters 3 dimes 13 nickels 5 pennies\n",
            "1 quarters 0 dimes 14 nickels 5 pennies\n",
            "0 quarters 2 dimes 15 nickels 5 pennies\n",
            "0 quarters 1 dimes 17 nickels 5 pennies\n",
            "0 quarters 0 dimes 19 nickels 5 pennies\n",
            "2 quarters 4 dimes 0 nickels 10 pennies\n",
            "0 quarters 9 dimes 0 nickels 10 pennies\n",
            "3 quarters 1 dimes 1 nickels 10 pennies\n",
            "1 quarters 6 dimes 1 nickels 10 pennies\n",
            "2 quarters 3 dimes 2 nickels 10 pennies\n",
            "0 quarters 8 dimes 2 nickels 10 pennies\n",
            "3 quarters 0 dimes 3 nickels 10 pennies\n",
            "1 quarters 5 dimes 3 nickels 10 pennies\n",
            "2 quarters 2 dimes 4 nickels 10 pennies\n",
            "0 quarters 7 dimes 4 nickels 10 pennies\n",
            "1 quarters 4 dimes 5 nickels 10 pennies\n",
            "2 quarters 1 dimes 6 nickels 10 pennies\n",
            "0 quarters 6 dimes 6 nickels 10 pennies\n",
            "1 quarters 3 dimes 7 nickels 10 pennies\n",
            "2 quarters 0 dimes 8 nickels 10 pennies\n",
            "0 quarters 5 dimes 8 nickels 10 pennies\n",
            "1 quarters 2 dimes 9 nickels 10 pennies\n",
            "0 quarters 4 dimes 10 nickels 10 pennies\n",
            "1 quarters 1 dimes 11 nickels 10 pennies\n",
            "0 quarters 3 dimes 12 nickels 10 pennies\n",
            "1 quarters 0 dimes 13 nickels 10 pennies\n",
            "0 quarters 2 dimes 14 nickels 10 pennies\n",
            "0 quarters 1 dimes 16 nickels 10 pennies\n",
            "0 quarters 0 dimes 18 nickels 10 pennies\n",
            "3 quarters 1 dimes 0 nickels 15 pennies\n",
            "1 quarters 6 dimes 0 nickels 15 pennies\n",
            "2 quarters 3 dimes 1 nickels 15 pennies\n",
            "0 quarters 8 dimes 1 nickels 15 pennies\n",
            "3 quarters 0 dimes 2 nickels 15 pennies\n",
            "1 quarters 5 dimes 2 nickels 15 pennies\n",
            "2 quarters 2 dimes 3 nickels 15 pennies\n",
            "0 quarters 7 dimes 3 nickels 15 pennies\n",
            "1 quarters 4 dimes 4 nickels 15 pennies\n",
            "2 quarters 1 dimes 5 nickels 15 pennies\n",
            "0 quarters 6 dimes 5 nickels 15 pennies\n",
            "1 quarters 3 dimes 6 nickels 15 pennies\n",
            "2 quarters 0 dimes 7 nickels 15 pennies\n",
            "0 quarters 5 dimes 7 nickels 15 pennies\n",
            "1 quarters 2 dimes 8 nickels 15 pennies\n",
            "0 quarters 4 dimes 9 nickels 15 pennies\n",
            "1 quarters 1 dimes 10 nickels 15 pennies\n",
            "0 quarters 3 dimes 11 nickels 15 pennies\n",
            "1 quarters 0 dimes 12 nickels 15 pennies\n",
            "0 quarters 2 dimes 13 nickels 15 pennies\n",
            "0 quarters 1 dimes 15 nickels 15 pennies\n",
            "0 quarters 0 dimes 17 nickels 15 pennies\n",
            "2 quarters 3 dimes 0 nickels 20 pennies\n",
            "0 quarters 8 dimes 0 nickels 20 pennies\n",
            "3 quarters 0 dimes 1 nickels 20 pennies\n",
            "1 quarters 5 dimes 1 nickels 20 pennies\n",
            "2 quarters 2 dimes 2 nickels 20 pennies\n",
            "0 quarters 7 dimes 2 nickels 20 pennies\n",
            "1 quarters 4 dimes 3 nickels 20 pennies\n",
            "2 quarters 1 dimes 4 nickels 20 pennies\n",
            "0 quarters 6 dimes 4 nickels 20 pennies\n",
            "1 quarters 3 dimes 5 nickels 20 pennies\n",
            "2 quarters 0 dimes 6 nickels 20 pennies\n",
            "0 quarters 5 dimes 6 nickels 20 pennies\n",
            "1 quarters 2 dimes 7 nickels 20 pennies\n",
            "0 quarters 4 dimes 8 nickels 20 pennies\n",
            "1 quarters 1 dimes 9 nickels 20 pennies\n",
            "0 quarters 3 dimes 10 nickels 20 pennies\n",
            "1 quarters 0 dimes 11 nickels 20 pennies\n",
            "0 quarters 2 dimes 12 nickels 20 pennies\n",
            "0 quarters 1 dimes 14 nickels 20 pennies\n",
            "0 quarters 0 dimes 16 nickels 20 pennies\n",
            "3 quarters 0 dimes 0 nickels 25 pennies\n",
            "1 quarters 5 dimes 0 nickels 25 pennies\n",
            "2 quarters 2 dimes 1 nickels 25 pennies\n",
            "0 quarters 7 dimes 1 nickels 25 pennies\n",
            "1 quarters 4 dimes 2 nickels 25 pennies\n",
            "2 quarters 1 dimes 3 nickels 25 pennies\n",
            "0 quarters 6 dimes 3 nickels 25 pennies\n",
            "1 quarters 3 dimes 4 nickels 25 pennies\n",
            "2 quarters 0 dimes 5 nickels 25 pennies\n",
            "0 quarters 5 dimes 5 nickels 25 pennies\n",
            "1 quarters 2 dimes 6 nickels 25 pennies\n",
            "0 quarters 4 dimes 7 nickels 25 pennies\n",
            "1 quarters 1 dimes 8 nickels 25 pennies\n",
            "0 quarters 3 dimes 9 nickels 25 pennies\n",
            "1 quarters 0 dimes 10 nickels 25 pennies\n",
            "0 quarters 2 dimes 11 nickels 25 pennies\n",
            "0 quarters 1 dimes 13 nickels 25 pennies\n",
            "0 quarters 0 dimes 15 nickels 25 pennies\n",
            "2 quarters 2 dimes 0 nickels 30 pennies\n",
            "0 quarters 7 dimes 0 nickels 30 pennies\n",
            "1 quarters 4 dimes 1 nickels 30 pennies\n",
            "2 quarters 1 dimes 2 nickels 30 pennies\n",
            "0 quarters 6 dimes 2 nickels 30 pennies\n",
            "1 quarters 3 dimes 3 nickels 30 pennies\n",
            "2 quarters 0 dimes 4 nickels 30 pennies\n",
            "0 quarters 5 dimes 4 nickels 30 pennies\n",
            "1 quarters 2 dimes 5 nickels 30 pennies\n",
            "0 quarters 4 dimes 6 nickels 30 pennies\n",
            "1 quarters 1 dimes 7 nickels 30 pennies\n",
            "0 quarters 3 dimes 8 nickels 30 pennies\n",
            "1 quarters 0 dimes 9 nickels 30 pennies\n",
            "0 quarters 2 dimes 10 nickels 30 pennies\n",
            "0 quarters 1 dimes 12 nickels 30 pennies\n",
            "0 quarters 0 dimes 14 nickels 30 pennies\n",
            "1 quarters 4 dimes 0 nickels 35 pennies\n",
            "2 quarters 1 dimes 1 nickels 35 pennies\n",
            "0 quarters 6 dimes 1 nickels 35 pennies\n",
            "1 quarters 3 dimes 2 nickels 35 pennies\n",
            "2 quarters 0 dimes 3 nickels 35 pennies\n",
            "0 quarters 5 dimes 3 nickels 35 pennies\n",
            "1 quarters 2 dimes 4 nickels 35 pennies\n",
            "0 quarters 4 dimes 5 nickels 35 pennies\n",
            "1 quarters 1 dimes 6 nickels 35 pennies\n",
            "0 quarters 3 dimes 7 nickels 35 pennies\n",
            "1 quarters 0 dimes 8 nickels 35 pennies\n",
            "0 quarters 2 dimes 9 nickels 35 pennies\n",
            "0 quarters 1 dimes 11 nickels 35 pennies\n",
            "0 quarters 0 dimes 13 nickels 35 pennies\n",
            "2 quarters 1 dimes 0 nickels 40 pennies\n",
            "0 quarters 6 dimes 0 nickels 40 pennies\n",
            "1 quarters 3 dimes 1 nickels 40 pennies\n",
            "2 quarters 0 dimes 2 nickels 40 pennies\n",
            "0 quarters 5 dimes 2 nickels 40 pennies\n",
            "1 quarters 2 dimes 3 nickels 40 pennies\n",
            "0 quarters 4 dimes 4 nickels 40 pennies\n",
            "1 quarters 1 dimes 5 nickels 40 pennies\n",
            "0 quarters 3 dimes 6 nickels 40 pennies\n",
            "1 quarters 0 dimes 7 nickels 40 pennies\n",
            "0 quarters 2 dimes 8 nickels 40 pennies\n",
            "0 quarters 1 dimes 10 nickels 40 pennies\n",
            "0 quarters 0 dimes 12 nickels 40 pennies\n",
            "1 quarters 3 dimes 0 nickels 45 pennies\n",
            "2 quarters 0 dimes 1 nickels 45 pennies\n",
            "0 quarters 5 dimes 1 nickels 45 pennies\n",
            "1 quarters 2 dimes 2 nickels 45 pennies\n",
            "0 quarters 4 dimes 3 nickels 45 pennies\n",
            "1 quarters 1 dimes 4 nickels 45 pennies\n",
            "0 quarters 3 dimes 5 nickels 45 pennies\n",
            "1 quarters 0 dimes 6 nickels 45 pennies\n",
            "0 quarters 2 dimes 7 nickels 45 pennies\n",
            "0 quarters 1 dimes 9 nickels 45 pennies\n",
            "0 quarters 0 dimes 11 nickels 45 pennies\n",
            "2 quarters 0 dimes 0 nickels 50 pennies\n",
            "0 quarters 5 dimes 0 nickels 50 pennies\n",
            "1 quarters 2 dimes 1 nickels 50 pennies\n",
            "0 quarters 4 dimes 2 nickels 50 pennies\n",
            "1 quarters 1 dimes 3 nickels 50 pennies\n",
            "0 quarters 3 dimes 4 nickels 50 pennies\n",
            "1 quarters 0 dimes 5 nickels 50 pennies\n",
            "0 quarters 2 dimes 6 nickels 50 pennies\n",
            "0 quarters 1 dimes 8 nickels 50 pennies\n",
            "0 quarters 0 dimes 10 nickels 50 pennies\n",
            "1 quarters 2 dimes 0 nickels 55 pennies\n",
            "0 quarters 4 dimes 1 nickels 55 pennies\n",
            "1 quarters 1 dimes 2 nickels 55 pennies\n",
            "0 quarters 3 dimes 3 nickels 55 pennies\n",
            "1 quarters 0 dimes 4 nickels 55 pennies\n",
            "0 quarters 2 dimes 5 nickels 55 pennies\n",
            "0 quarters 1 dimes 7 nickels 55 pennies\n",
            "0 quarters 0 dimes 9 nickels 55 pennies\n",
            "0 quarters 4 dimes 0 nickels 60 pennies\n",
            "1 quarters 1 dimes 1 nickels 60 pennies\n",
            "0 quarters 3 dimes 2 nickels 60 pennies\n",
            "1 quarters 0 dimes 3 nickels 60 pennies\n",
            "0 quarters 2 dimes 4 nickels 60 pennies\n",
            "0 quarters 1 dimes 6 nickels 60 pennies\n",
            "0 quarters 0 dimes 8 nickels 60 pennies\n",
            "1 quarters 1 dimes 0 nickels 65 pennies\n",
            "0 quarters 3 dimes 1 nickels 65 pennies\n",
            "1 quarters 0 dimes 2 nickels 65 pennies\n",
            "0 quarters 2 dimes 3 nickels 65 pennies\n",
            "0 quarters 1 dimes 5 nickels 65 pennies\n",
            "0 quarters 0 dimes 7 nickels 65 pennies\n",
            "0 quarters 3 dimes 0 nickels 70 pennies\n",
            "1 quarters 0 dimes 1 nickels 70 pennies\n",
            "0 quarters 2 dimes 2 nickels 70 pennies\n",
            "0 quarters 1 dimes 4 nickels 70 pennies\n",
            "0 quarters 0 dimes 6 nickels 70 pennies\n",
            "1 quarters 0 dimes 0 nickels 75 pennies\n",
            "0 quarters 2 dimes 1 nickels 75 pennies\n",
            "0 quarters 1 dimes 3 nickels 75 pennies\n",
            "0 quarters 0 dimes 5 nickels 75 pennies\n",
            "0 quarters 2 dimes 0 nickels 80 pennies\n",
            "0 quarters 1 dimes 2 nickels 80 pennies\n",
            "0 quarters 0 dimes 4 nickels 80 pennies\n",
            "0 quarters 1 dimes 1 nickels 85 pennies\n",
            "0 quarters 0 dimes 3 nickels 85 pennies\n",
            "0 quarters 1 dimes 0 nickels 90 pennies\n",
            "0 quarters 0 dimes 2 nickels 90 pennies\n",
            "0 quarters 0 dimes 1 nickels 95 pennies\n",
            "0 quarters 0 dimes 0 nickels 100 pennies\n"
          ],
          "name": "stdout"
        }
      ]
    },
    {
      "cell_type": "markdown",
      "metadata": {
        "id": "rUPDjYiIkbgs"
      },
      "source": [
        "##### Q7. Ask the user to enter two positive integers between 1 and 100. Read those integers. Then output a multiplication table of the first number times the second number. \n",
        "\n",
        "Note: You have to ensure the entered numbers are between 1 and 100 only.\n",
        "\n",
        "```\n",
        "Please enter an integer: 5\n",
        "Please enter another integer: 20\n",
        "5 x 1 = 5\n",
        "5 x 2 = 10\n",
        "5 x 3 = 15\n",
        "…\n",
        "5 x 20 = 100\n",
        "```"
      ]
    },
    {
      "cell_type": "code",
      "metadata": {
        "id": "Qg0Orv1klHzA",
        "colab": {
          "base_uri": "https://localhost:8080/"
        },
        "outputId": "53a7f4da-1e1b-4b37-b0e0-ce7c77e1181b"
      },
      "source": [
        "number = input(\"Enter an integer between 1 and 100: \")\n",
        "while number.isdigit() == False:\n",
        "  number = input(\"Enter an integer number: \")\n",
        "number = int(number)\n",
        "while number<1 or number>100:\n",
        "  number = int(input(\"Enter a number between 1 and 100: \"))\n",
        "\n",
        "number2 = input(\"Enter another integer between 1 and 100: \")\n",
        "while number2.isdigit() == False:\n",
        "  number2 = input(\"Enter an integer number: \")\n",
        "number2 = int(number2)\n",
        "while number2<1 or number2>100:\n",
        "  number2 = int(input(\"Enter a number between 1 and 100: \"))\n",
        "\n",
        "for x in range(1,number2+1,1):\n",
        "\n",
        "    print(number, \"x\", x, \"=\", number*x)\n",
        "\n"
      ],
      "execution_count": null,
      "outputs": [
        {
          "output_type": "stream",
          "text": [
            "Enter an integer between 1 and 100: 101\n",
            "Enter a number between 1 and 100: -1\n",
            "Enter a number between 1 and 100: 5\n",
            "Enter another integer between 1 and 100: 20\n",
            "5 x 1 = 5\n",
            "5 x 2 = 10\n",
            "5 x 3 = 15\n",
            "5 x 4 = 20\n",
            "5 x 5 = 25\n",
            "5 x 6 = 30\n",
            "5 x 7 = 35\n",
            "5 x 8 = 40\n",
            "5 x 9 = 45\n",
            "5 x 10 = 50\n",
            "5 x 11 = 55\n",
            "5 x 12 = 60\n",
            "5 x 13 = 65\n",
            "5 x 14 = 70\n",
            "5 x 15 = 75\n",
            "5 x 16 = 80\n",
            "5 x 17 = 85\n",
            "5 x 18 = 90\n",
            "5 x 19 = 95\n",
            "5 x 20 = 100\n"
          ],
          "name": "stdout"
        }
      ]
    },
    {
      "cell_type": "markdown",
      "metadata": {
        "id": "SbnbPUPTlLD9"
      },
      "source": [
        "##### Q8. Write a program to ask the user to enter a password. Then check to see if it is a valid password based on these requirements -\n",
        "\n",
        "Must be at least 8 characters long\n",
        "\n",
        "Must contain both uppercase and lowercase letters\n",
        "\n",
        "Must contain at least one number between 0-9\n",
        "\n",
        "Must contain a special character -!,@,#,$\n",
        "\n",
        "If the password is not valid, ask the user to re-enter. This should continue until the user enters a valid password. After a valid password is entered, print Access Granted!\n",
        "\n",
        "```\n",
        "Please enter a password. Follow these requirements - \n",
        "a. Must be at least 8 characters long\n",
        "b. Must contain both uppercase and lowercase letters\n",
        "c. Must contain at least one number between 0-9\n",
        "d. Must contain a special character -!,@,#,$\n",
        "Password: HelloWorld1\n",
        "Invalid password. Try again!\n",
        "Password: Hello@World1\n",
        "Access Granted!\n",
        "```\n"
      ]
    },
    {
      "cell_type": "code",
      "metadata": {
        "id": "OXmZ177Rl-RV",
        "colab": {
          "base_uri": "https://localhost:8080/"
        },
        "outputId": "6b3ce323-51e0-4547-9425-45e92d38b7ef"
      },
      "source": [
        "password = input(\"Please enter a password. Follow these requirements - \\na. Must be at least 8 characters long \\nb. Must contain both uppercase and lowercase letters \\nc. Must contain at least one number between 0-9 \\nd. Must contain a special character -!,@,#,$\\n\")\n",
        "print(\"Password: \", password)\n",
        "hasdigit = False\n",
        "hasspecial = False\n",
        "special = [\"!\", \"@\", \"#\", \"$\"]\n",
        "length = len(password)\n",
        "\n",
        "while length < 8 or password.islower() == True or password.isupper() == True or hasdigit == False or hasspecial == False:\n",
        "  print(\"Invalid password. Try again!\")\n",
        "  password = input(\"Password: \")\n",
        "  hasdigit = False\n",
        "  hasspecial = False\n",
        "  length = len(password)\n",
        "  for x in password:\n",
        "    if x.isdigit():\n",
        "      x = int(x)\n",
        "      if x>= 0 and x <=9:\n",
        "        hasdigit = True\n",
        "  for x in password:\n",
        "    for y in special:\n",
        "      if x == y:\n",
        "        hasspecial = True\n",
        "print(\"Access Granted\")\n",
        "  "
      ],
      "execution_count": null,
      "outputs": [
        {
          "output_type": "stream",
          "text": [
            "Please enter a password. Follow these requirements - \n",
            "a. Must be at least 8 characters long \n",
            "b. Must contain both uppercase and lowercase letters \n",
            "c. Must contain at least one number between 0-9 \n",
            "d. Must contain a special character -!,@,#,$\n",
            "HelloWorld1\n",
            "Password:  HelloWorld1\n",
            "Invalid password. Try again!\n",
            "Password: Hello@World\n",
            "Invalid password. Try again!\n",
            "Password: Hello@World1\n",
            "Access Granted\n"
          ],
          "name": "stdout"
        }
      ]
    },
    {
      "cell_type": "markdown",
      "metadata": {
        "id": "-0sdutTDnTKA"
      },
      "source": [
        "##### Q9. Given the score sheet of participants in a competition, you are required to find the runner-up score. You are given scores in a list. Find the score of the runner-up.\n",
        "\n",
        "```\n",
        "list1 - [2, 3, 6, 6, 5]\n",
        "runner_up - 5\n",
        "\n",
        "list2 - [1, 7, 5, 3, 10, 4, 5, 5, 6, 11]\n",
        "runner_up - 10\n",
        "```"
      ]
    },
    {
      "cell_type": "code",
      "metadata": {
        "id": "12YP9OaqpGRK",
        "colab": {
          "base_uri": "https://localhost:8080/"
        },
        "outputId": "720ecc72-2c80-4736-f58e-4b9330fc003d"
      },
      "source": [
        "List1 = [2, 3, 6, 6, 5]\n",
        "print(\"list1 -\", List1)\n",
        "\n",
        "largest = 0\n",
        "for x in List1:\n",
        "  if x>largest:\n",
        "    largest = x\n",
        "\n",
        "List1.remove(largest)\n",
        "while largest in List1:\n",
        "  List1.remove(largest)\n",
        "\n",
        "runnerup = 0\n",
        "for x in List1:\n",
        "  if x>runnerup:\n",
        "    runnerup = x\n",
        "\n",
        "print(\"runner_up -\", runnerup)\n",
        "\n",
        "List2 = [1,7,5,3,10,4,5,5,6,11]\n",
        "print(\"\\nlist2 -\", List2)\n",
        "\n",
        "largest = 0\n",
        "for x in List2:\n",
        "  if x>largest:\n",
        "    largest = x\n",
        "\n",
        "List2.remove(largest)\n",
        "while largest in List2:\n",
        "  List2.remove(largest)\n",
        "\n",
        "runnerup = 0\n",
        "for x in List2:\n",
        "  if x>runnerup:\n",
        "    runnerup = x\n",
        "\n",
        "print(\"runner_up -\", runnerup)"
      ],
      "execution_count": null,
      "outputs": [
        {
          "output_type": "stream",
          "text": [
            "list1 - [2, 3, 6, 6, 5]\n",
            "runner_up - 5\n",
            "\n",
            "list2 - [1, 7, 5, 3, 10, 4, 5, 5, 6, 11]\n",
            "runner_up - 10\n"
          ],
          "name": "stdout"
        }
      ]
    }
  ]
}